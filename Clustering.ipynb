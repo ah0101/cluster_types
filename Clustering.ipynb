{
 "cells": [
  {
   "cell_type": "markdown",
   "metadata": {},
   "source": [
    "Clustering Example"
   ]
  },
  {
   "cell_type": "code",
   "execution_count": 1,
   "metadata": {},
   "outputs": [
    {
     "name": "stderr",
     "output_type": "stream",
     "text": [
      "C:\\ProgramData\\Anaconda3\\lib\\site-packages\\sklearn\\utils\\deprecation.py:143: FutureWarning: The sklearn.datasets.samples_generator module is  deprecated in version 0.22 and will be removed in version 0.24. The corresponding classes / functions should instead be imported from sklearn.datasets. Anything that cannot be imported from sklearn.datasets is now part of the private API.\n",
      "  warnings.warn(message, FutureWarning)\n"
     ]
    }
   ],
   "source": [
    "# Imports\n",
    "from sklearn.datasets.samples_generator import make_blobs"
   ]
  },
  {
   "cell_type": "code",
   "execution_count": 2,
   "metadata": {},
   "outputs": [],
   "source": [
    "# Generate 2D data points\n",
    "X, _ = make_blobs(n_samples=100, centers=3, n_features=2,\n",
    "                 cluster_std=0.2,  random_state=0)"
   ]
  },
  {
   "cell_type": "code",
   "execution_count": 3,
   "metadata": {},
   "outputs": [],
   "source": [
    "# Convert the data points into a pandas DataFrame\n",
    "import pandas as pd\n",
    "\n",
    "# Generate indicators for the data points\n",
    "obj_names = []\n",
    "for i in range(1, 101):\n",
    "    obj = \"Object \" + str(i)\n",
    "    obj_names.append(obj)\n"
   ]
  },
  {
   "cell_type": "code",
   "execution_count": 4,
   "metadata": {},
   "outputs": [
    {
     "name": "stdout",
     "output_type": "stream",
     "text": [
      "     Object   X_value   Y_value\n",
      "0  Object 1  2.170586  0.856004\n",
      "1  Object 2  0.797177  4.381168\n",
      "2  Object 3  2.244718  0.866662\n",
      "3  Object 4  0.653491  4.261239\n",
      "4  Object 5  0.766559  4.019784\n"
     ]
    }
   ],
   "source": [
    "# Create a pandas DataFrame with the names and (x, y) coordinates\n",
    "data = pd.DataFrame({\n",
    "    'Object': obj_names,\n",
    "    'X_value': X[:, 0], # first\n",
    "    'Y_value': X[:, -1] #second \n",
    "})\n",
    "\n",
    "# Preview the data\n",
    "print(data.head())"
   ]
  },
  {
   "cell_type": "code",
   "execution_count": 5,
   "metadata": {},
   "outputs": [
    {
     "data": {
      "text/plain": [
       "<matplotlib.collections.PathCollection at 0x22c70178e50>"
      ]
     },
     "execution_count": 5,
     "metadata": {},
     "output_type": "execute_result"
    },
    {
     "data": {
      "image/png": "[encoded data removed]",
      "text/plain": [
       "<Figure size 432x288 with 1 Axes>"
      ]
     },
     "metadata": {
      "needs_background": "light"
     },
     "output_type": "display_data"
    }
   ],
   "source": [
    "import matplotlib.pyplot as plt\n",
    "plt.scatter(data['X_value'],data['Y_value'])"
   ]
  },
  {
   "cell_type": "code",
   "execution_count": 6,
   "metadata": {},
   "outputs": [],
   "source": [
    "#notice we have 3 groups here. here we can use the k-means algo"
   ]
  },
  {
   "cell_type": "code",
   "execution_count": 7,
   "metadata": {},
   "outputs": [],
   "source": [
    "# Initialize the centroids\n",
    "c1 = (-1, 4)\n",
    "c2 = (-0.2, 1.5)\n",
    "c3 = (2, 2.5)"
   ]
  },
  {
   "cell_type": "code",
   "execution_count": 8,
   "metadata": {},
   "outputs": [],
   "source": [
    "import numpy as np"
   ]
  },
  {
   "cell_type": "code",
   "execution_count": 9,
   "metadata": {},
   "outputs": [],
   "source": [
    "# A helper function to calculate the Euclidean diatance between the data \n",
    "# points and the centroids\n",
    "\n",
    "def calculate_distance(centroid, X, Y):\n",
    "    distances = []\n",
    "        \n",
    "    # Unpack the x and y coordinates of the centroid\n",
    "    c_x, c_y = centroid\n",
    "        \n",
    "    # Iterate over the data points and calculate the distance using the           # given formula\n",
    "    for x, y in list(zip(X, Y)):\n",
    "        root_diff_x = (x - c_x) ** 2\n",
    "        root_diff_y = (y - c_y) ** 2\n",
    "        distance = np.sqrt(root_diff_x + root_diff_y)\n",
    "        distances.append(distance)\n",
    "        \n",
    "    return distances"
   ]
  },
  {
   "cell_type": "code",
   "execution_count": 10,
   "metadata": {},
   "outputs": [
    {
     "name": "stdout",
     "output_type": "stream",
     "text": [
      "     Object   X_value   Y_value  C1_Distance  C2_Distance  C3_Distance\n",
      "0  Object 1  2.170586  0.856004     4.465123     2.456503     1.652823\n",
      "1  Object 2  0.797177  4.381168     1.837154     3.048851     2.232840\n",
      "2  Object 3  2.244718  0.866662     4.510654     2.525423     1.651569\n",
      "3  Object 4  0.653491  4.261239     1.674000     2.890136     2.216992\n",
      "4  Object 5  0.766559  4.019784     1.766670     2.698805     1.957324\n"
     ]
    }
   ],
   "source": [
    "# Calculate the distance and assign them to the DataFrame accordingly\n",
    "data['C1_Distance'] = calculate_distance(c1, data.X_value, data.Y_value)\n",
    "data['C2_Distance'] = calculate_distance(c2, data.X_value, data.Y_value)\n",
    "data['C3_Distance'] = calculate_distance(c3, data.X_value, data.Y_value)\n",
    "\n",
    "# Preview the data\n",
    "print(data.head())"
   ]
  },
  {
   "cell_type": "code",
   "execution_count": 11,
   "metadata": {},
   "outputs": [
    {
     "name": "stdout",
     "output_type": "stream",
     "text": [
      "      Object   X_value   Y_value  C1_Distance  C2_Distance  C3_Distance  \\\n",
      "0   Object 1  2.170586  0.856004     4.465123     2.456503     1.652823   \n",
      "1   Object 2  0.797177  4.381168     1.837154     3.048851     2.232840   \n",
      "2   Object 3  2.244718  0.866662     4.510654     2.525423     1.651569   \n",
      "3   Object 4  0.653491  4.261239     1.674000     2.890136     2.216992   \n",
      "4   Object 5  0.766559  4.019784     1.766670     2.698805     1.957324   \n",
      "5   Object 6  0.906688  4.335057     1.935903     3.043404     2.136063   \n",
      "6   Object 7 -1.756398  2.830318     1.392944     2.047467     3.770893   \n",
      "7   Object 8 -1.337020  2.935393     1.116679     1.831165     3.365304   \n",
      "8   Object 9  2.189726  0.979156     4.393160     2.445827     1.532633   \n",
      "9  Object 10  0.849406  4.231239     1.863806     2.925905     2.078715   \n",
      "\n",
      "  Cluster  \n",
      "0      C3  \n",
      "1      C1  \n",
      "2      C3  \n",
      "3      C1  \n",
      "4      C1  \n",
      "5      C1  \n",
      "6      C1  \n",
      "7      C1  \n",
      "8      C3  \n",
      "9      C1  \n"
     ]
    }
   ],
   "source": [
    "\n",
    "# Get the minimum distance centroids\n",
    "data['Cluster'] = data[['C1_Distance', 'C2_Distance', 'C3_Distance']].apply(np.argmin, axis =1)\n",
    "\n",
    "# Map the centroids accordingly and rename them\n",
    "data['Cluster'] = data['Cluster'].map({0: 'C1', 1: 'C2', 2: 'C3'})\n",
    "\n",
    "# Get a preview of the data\n",
    "print(data.head(10))\n"
   ]
  },
  {
   "cell_type": "code",
   "execution_count": 12,
   "metadata": {},
   "outputs": [
    {
     "name": "stdout",
     "output_type": "stream",
     "text": [
      "Centroid 1 (-0.5911425513006126, 3.4657547193562874)\n",
      "Centroid 2 (1.8327759404388673, 1.8646195450791323)\n"
     ]
    }
   ],
   "source": [
    "# Calculate the coordinates of the new centroid from cluster 1\n",
    "x_new_centroid1 = data[data['Cluster']=='C1']['X_value'].mean()\n",
    "y_new_centroid1 = data[data['Cluster']=='C1']['Y_value'].mean()\n",
    "\n",
    "# Calculate the coordinates of the new centroid from cluster 2\n",
    "x_new_centroid2 = data[data['Cluster']=='C3']['X_value'].mean()\n",
    "y_new_centroid2 = data[data['Cluster']=='C3']['Y_value'].mean()\n",
    "\n",
    "# Print the coordinates of the new centroids\n",
    "print('Centroid 1 ({}, {})'.format(x_new_centroid1, y_new_centroid1))\n",
    "print('Centroid 2 ({}, {})'.format(x_new_centroid2, y_new_centroid2))"
   ]
  },
  {
   "cell_type": "code",
   "execution_count": 13,
   "metadata": {},
   "outputs": [],
   "source": [
    "# Using scikit-learn to perform K-Means clustering\n",
    "from sklearn.cluster import KMeans\n",
    "    \n",
    "# Specify the number of clusters (3) and fit the data X\n",
    "kmeans = KMeans(n_clusters=3, random_state=0).fit(X)"
   ]
  },
  {
   "cell_type": "code",
   "execution_count": 14,
   "metadata": {},
   "outputs": [
    {
     "name": "stdout",
     "output_type": "stream",
     "text": [
      "[[-1.538563    2.91165191]\n",
      " [ 2.0720792   0.98848385]\n",
      " [ 0.95164831  4.28882085]]\n",
      "[1 2 1 2 2 2 0 0 1 2 2 2 1 2 0 1 0 2 0 0 0 0 0 2 1 1 1 1 0 0 2 1 1 2 0 0 2\n",
      " 1 1 0 0 1 1 2 2 2 1 1 0 0 0 1 2 1 0 0 1 1 2 1 1 0 0 0 0 1 2 0 1 2 0 2 2 1\n",
      " 1 2 2 2 0 1 2 2 1 2 1 2 2 2 1 2 1 1 0 0 0 0 2 2 0 0]\n"
     ]
    }
   ],
   "source": [
    "# Get the cluster centroids\n",
    "print(kmeans.cluster_centers_)\n",
    "    \n",
    "# Get the cluster labels\n",
    "print(kmeans.labels_)"
   ]
  },
  {
   "cell_type": "code",
   "execution_count": 15,
   "metadata": {},
   "outputs": [
    {
     "data": {
      "image/png": "[encoded data removed]",
      "text/plain": [
       "<Figure size 432x288 with 1 Axes>"
      ]
     },
     "metadata": {
      "needs_background": "light"
     },
     "output_type": "display_data"
    }
   ],
   "source": [
    "# Plotting the cluster centers and the data points on a 2D plane\n",
    "plt.scatter(X[:, 0], X[:, -1])\n",
    "    \n",
    "plt.scatter(kmeans.cluster_centers_[:, 0], kmeans.cluster_centers_[:, 1], c='red', marker='x')\n",
    "    \n",
    "plt.title('Data points and cluster centroids')\n",
    "plt.show()"
   ]
  },
  {
   "cell_type": "code",
   "execution_count": 16,
   "metadata": {},
   "outputs": [
    {
     "name": "stdout",
     "output_type": "stream",
     "text": [
      "0.8816040239688525\n"
     ]
    }
   ],
   "source": [
    "# Calculate silhouette_score\n",
    "from sklearn.metrics import silhouette_score\n",
    "\n",
    "print(silhouette_score(X, kmeans.labels_))"
   ]
  },
  {
   "cell_type": "code",
   "execution_count": 17,
   "metadata": {},
   "outputs": [
    {
     "data": {
      "image/png": "[encoded data removed]",
      "text/plain": [
       "<Figure size 576x396 with 1 Axes>"
      ]
     },
     "metadata": {},
     "output_type": "display_data"
    },
    {
     "data": {
      "text/plain": [
       "<AxesSubplot:title={'center':'Silhouette Score Elbow for KMeans Clustering'}, xlabel='k', ylabel='silhouette score'>"
      ]
     },
     "execution_count": 17,
     "metadata": {},
     "output_type": "execute_result"
    }
   ],
   "source": [
    "# Import the KElbowVisualizer method \n",
    "from yellowbrick.cluster import KElbowVisualizer\n",
    "\n",
    "# Instantiate a scikit-learn K-Means model\n",
    "model = KMeans(random_state=0)\n",
    "\n",
    "# Instantiate the KElbowVisualizer with the number of clusters and the metric \n",
    "visualizer = KElbowVisualizer(model, k=(2,6), metric='silhouette', timings=False)\n",
    "\n",
    "# Fit the data and visualize\n",
    "visualizer.fit(X)    \n",
    "visualizer.poof() "
   ]
  },
  {
   "cell_type": "code",
   "execution_count": null,
   "metadata": {},
   "outputs": [],
   "source": []
  }
 ],
 "metadata": {
  "kernelspec": {
   "display_name": "Python 3",
   "language": "python",
   "name": "python3"
  },
  "language_info": {
   "codemirror_mode": {
    "name": "ipython",
    "version": 3
   },
   "file_extension": ".py",
   "mimetype": "text/x-python",
   "name": "python",
   "nbconvert_exporter": "python",
   "pygments_lexer": "ipython3",
   "version": "3.8.5"
  }
 },
 "nbformat": 4,
 "nbformat_minor": 4
}
